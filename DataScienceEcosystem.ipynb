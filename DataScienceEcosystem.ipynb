{
 "cells": [
  {
   "cell_type": "markdown",
   "id": "033d11ca-af9a-4da3-a296-8f6c18a4c02a",
   "metadata": {},
   "source": [
    "# Data Science Tools and Ecosystem"
   ]
  },
  {
   "cell_type": "markdown",
   "id": "f916ae8a-68b6-4a4b-a011-f41229388f23",
   "metadata": {},
   "source": [
    "In this notebook, Data Science Tools and Ecosystem are summarized."
   ]
  },
  {
   "cell_type": "markdown",
   "id": "72d5f545-649c-4e54-a49c-29bcd2fdb142",
   "metadata": {},
   "source": [
    "**Objectives:**\n",
    "- List popular languages for Data Science\n",
    "- Some of the commonly used libraries used by Data Scientists\n",
    "- Data Science Tools"
   ]
  },
  {
   "cell_type": "markdown",
   "id": "c93a3834-848c-4a9e-b01c-2da2ab54749c",
   "metadata": {},
   "source": [
    "Some of the popular languages that Data Scientists use are:\n",
    "1 Python\n",
    "2 R\n",
    "3 SQL"
   ]
  },
  {
   "cell_type": "markdown",
   "id": "6686c0b3-6db1-44e4-a66c-e2d57cc321b7",
   "metadata": {},
   "source": [
    "Some of the commonly used libraries used by Data Scientists include:\n",
    "1 Pandas\n",
    "2 Numpy\n",
    "3 TensorFlow"
   ]
  },
  {
   "cell_type": "markdown",
   "id": "b4835a48-d225-4e82-9852-1757edc51fb4",
   "metadata": {},
   "source": [
    "|Data Science Tools|\n",
    "|------------------|\n",
    "|Jupyter Notebook| \n",
    "|RStudio|\n",
    "|Apache Zeppelin|\n"
   ]
  },
  {
   "cell_type": "markdown",
   "id": "274d3fae-8223-4c40-a866-059aa5667de8",
   "metadata": {},
   "source": [
    "### Below are a few examples of evaluating arithmetic expressions in Python"
   ]
  },
  {
   "cell_type": "code",
   "execution_count": 55,
   "id": "a984df65-21dd-4e1b-b120-b5cbbe1c991f",
   "metadata": {},
   "outputs": [
    {
     "data": {
      "text/plain": [
       "17"
      ]
     },
     "execution_count": 55,
     "metadata": {},
     "output_type": "execute_result"
    }
   ],
   "source": [
    "# This a simple arithmetic expression to mutiply then add integers\n",
    "(3*4)+5 "
   ]
  },
  {
   "cell_type": "code",
   "execution_count": 57,
   "id": "e708d47c-f75c-49bc-b1a7-ff77ecc4fa72",
   "metadata": {},
   "outputs": [
    {
     "data": {
      "text/plain": [
       "3.3333333333333335"
      ]
     },
     "execution_count": 57,
     "metadata": {},
     "output_type": "execute_result"
    }
   ],
   "source": [
    "#  This will convert 200 minutes to hours by diving by 60\n",
    "200/60"
   ]
  },
  {
   "cell_type": "markdown",
   "id": "b099e143-ec59-4bf9-8182-0fea6b302b3e",
   "metadata": {},
   "source": [
    "## Author\n",
    "Joseph ABI HAIDAR"
   ]
  },
  {
   "cell_type": "code",
   "execution_count": null,
   "id": "03ff0bb1-70a5-44e7-81ab-e63f24abeddb",
   "metadata": {},
   "outputs": [],
   "source": []
  }
 ],
 "metadata": {
  "kernelspec": {
   "display_name": "Python 3 (ipykernel)",
   "language": "python",
   "name": "python3"
  },
  "language_info": {
   "codemirror_mode": {
    "name": "ipython",
    "version": 3
   },
   "file_extension": ".py",
   "mimetype": "text/x-python",
   "name": "python",
   "nbconvert_exporter": "python",
   "pygments_lexer": "ipython3",
   "version": "3.12.7"
  }
 },
 "nbformat": 4,
 "nbformat_minor": 5
}
